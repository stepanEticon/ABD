{
  "cells": [
    {
      "cell_type": "markdown",
      "metadata": {
        "colab_type": "text",
        "id": "view-in-github"
      },
      "source": [
        "<a href=\"https://colab.research.google.com/github/Appendme/big_data_analysis/blob/master/Lab_9.ipynb\" target=\"_parent\"><img src=\"https://colab.research.google.com/assets/colab-badge.svg\" alt=\"Open In Colab\"/></a>"
      ]
    },
    {
      "cell_type": "code",
      "execution_count": 11,
      "metadata": {
        "id": "wA37Ih58A47C"
      },
      "outputs": [],
      "source": [
        "import numpy as np\n",
        "import pandas as pd\n",
        "from sklearn.linear_model import LinearRegression"
      ]
    },
    {
      "cell_type": "code",
      "execution_count": 12,
      "metadata": {
        "colab": {
          "base_uri": "https://localhost:8080/",
          "height": 204
        },
        "id": "AtMtmMpnBD1a",
        "outputId": "caac1c92-827d-4094-891b-df499c044120"
      },
      "outputs": [
        {
          "data": {
            "text/html": [
              "<div>\n",
              "<style scoped>\n",
              "    .dataframe tbody tr th:only-of-type {\n",
              "        vertical-align: middle;\n",
              "    }\n",
              "\n",
              "    .dataframe tbody tr th {\n",
              "        vertical-align: top;\n",
              "    }\n",
              "\n",
              "    .dataframe thead th {\n",
              "        text-align: right;\n",
              "    }\n",
              "</style>\n",
              "<table border=\"1\" class=\"dataframe\">\n",
              "  <thead>\n",
              "    <tr style=\"text-align: right;\">\n",
              "      <th></th>\n",
              "      <th>district</th>\n",
              "      <th>annual net sales</th>\n",
              "      <th>number of stores in district</th>\n",
              "    </tr>\n",
              "  </thead>\n",
              "  <tbody>\n",
              "    <tr>\n",
              "      <th>0</th>\n",
              "      <td>1</td>\n",
              "      <td>231.0</td>\n",
              "      <td>12</td>\n",
              "    </tr>\n",
              "    <tr>\n",
              "      <th>1</th>\n",
              "      <td>2</td>\n",
              "      <td>156.0</td>\n",
              "      <td>13</td>\n",
              "    </tr>\n",
              "    <tr>\n",
              "      <th>2</th>\n",
              "      <td>3</td>\n",
              "      <td>10.0</td>\n",
              "      <td>16</td>\n",
              "    </tr>\n",
              "    <tr>\n",
              "      <th>3</th>\n",
              "      <td>4</td>\n",
              "      <td>519.0</td>\n",
              "      <td>2</td>\n",
              "    </tr>\n",
              "    <tr>\n",
              "      <th>4</th>\n",
              "      <td>5</td>\n",
              "      <td>437.0</td>\n",
              "      <td>6</td>\n",
              "    </tr>\n",
              "  </tbody>\n",
              "</table>\n",
              "</div>"
            ],
            "text/plain": [
              "   district  annual net sales  number of stores in district\n",
              "0         1             231.0                            12\n",
              "1         2             156.0                            13\n",
              "2         3              10.0                            16\n",
              "3         4             519.0                             2\n",
              "4         5             437.0                             6"
            ]
          },
          "execution_count": 12,
          "metadata": {
            "tags": []
          },
          "output_type": "execute_result"
        }
      ],
      "source": [
        "df = pd.read_csv('samples/stores-dist.txt')\n",
        "df.head()"
      ]
    },
    {
      "cell_type": "code",
      "execution_count": 13,
      "metadata": {
        "colab": {
          "base_uri": "https://localhost:8080/"
        },
        "id": "PnLNGR4hBsQ3",
        "outputId": "2dae6609-65de-475f-b4c2-af53abb32410"
      },
      "outputs": [
        {
          "data": {
            "text/plain": [
              "district                        0\n",
              "annual net sales                0\n",
              "number of stores in district    0\n",
              "dtype: int64"
            ]
          },
          "execution_count": 13,
          "metadata": {
            "tags": []
          },
          "output_type": "execute_result"
        }
      ],
      "source": [
        "df.isnull().sum()"
      ]
    },
    {
      "cell_type": "code",
      "execution_count": 14,
      "metadata": {
        "colab": {
          "base_uri": "https://localhost:8080/",
          "height": 204
        },
        "id": "m4a0OKHzBzAF",
        "outputId": "75069114-4cb7-4c22-9769-34c9d2391b8a"
      },
      "outputs": [
        {
          "data": {
            "text/html": [
              "<div>\n",
              "<style scoped>\n",
              "    .dataframe tbody tr th:only-of-type {\n",
              "        vertical-align: middle;\n",
              "    }\n",
              "\n",
              "    .dataframe tbody tr th {\n",
              "        vertical-align: top;\n",
              "    }\n",
              "\n",
              "    .dataframe thead th {\n",
              "        text-align: right;\n",
              "    }\n",
              "</style>\n",
              "<table border=\"1\" class=\"dataframe\">\n",
              "  <thead>\n",
              "    <tr style=\"text-align: right;\">\n",
              "      <th></th>\n",
              "      <th>sales</th>\n",
              "      <th>stores</th>\n",
              "    </tr>\n",
              "  </thead>\n",
              "  <tbody>\n",
              "    <tr>\n",
              "      <th>0</th>\n",
              "      <td>231.0</td>\n",
              "      <td>12</td>\n",
              "    </tr>\n",
              "    <tr>\n",
              "      <th>1</th>\n",
              "      <td>156.0</td>\n",
              "      <td>13</td>\n",
              "    </tr>\n",
              "    <tr>\n",
              "      <th>2</th>\n",
              "      <td>10.0</td>\n",
              "      <td>16</td>\n",
              "    </tr>\n",
              "    <tr>\n",
              "      <th>3</th>\n",
              "      <td>519.0</td>\n",
              "      <td>2</td>\n",
              "    </tr>\n",
              "    <tr>\n",
              "      <th>4</th>\n",
              "      <td>437.0</td>\n",
              "      <td>6</td>\n",
              "    </tr>\n",
              "  </tbody>\n",
              "</table>\n",
              "</div>"
            ],
            "text/plain": [
              "   sales  stores\n",
              "0  231.0      12\n",
              "1  156.0      13\n",
              "2   10.0      16\n",
              "3  519.0       2\n",
              "4  437.0       6"
            ]
          },
          "execution_count": 14,
          "metadata": {
            "tags": []
          },
          "output_type": "execute_result"
        }
      ],
      "source": [
        "df.rename(columns = {'annual net sales':'sales','number of stores in district':'stores'}, inplace = True)\n",
        "df.drop('district', axis = 1, inplace = True)\n",
        "df.head()"
      ]
    },
    {
      "cell_type": "code",
      "execution_count": 15,
      "metadata": {
        "id": "XMeglW94CRuz"
      },
      "outputs": [],
      "source": [
        "x = df.stores\n",
        "y = df.sales"
      ]
    },
    {
      "cell_type": "code",
      "execution_count": 16,
      "metadata": {
        "colab": {
          "base_uri": "https://localhost:8080/"
        },
        "id": "RFzI0o0wCql9",
        "outputId": "40db121a-289e-4736-db83-e99c07f6b326"
      },
      "outputs": [
        {
          "name": "stdout",
          "output_type": "stream",
          "text": [
            "The array p(x) stores the calculated y value from the polynomial model for each x value,\n",
            "\n",
            "[169.93468442 134.14759895  26.78634257 527.80553905 384.65719719\n",
            " 420.44428266 205.72176988 134.14759895  26.78634257 277.29594081\n",
            " 527.80553905 313.08302627 456.23136812  62.57342803 169.93468442\n",
            " 205.72176988 420.44428266  98.36051349 313.08302627 527.80553905\n",
            " 563.59262451  62.57342803 134.14759895 348.87011173 384.65719719\n",
            " 563.59262451 277.29594081].\n",
            "\n",
            "The vector of coefficients p describes this regression model:\n",
            " \n",
            "-35.79 x + 599.4\n",
            "\n",
            "The zeroth order term (y-intercept or b) is stored in p[0]: 599.3797099726614.\n",
            "\n",
            "The first order term (slope or m) is stored in p[1]: -35.787085462974005.\n"
          ]
        }
      ],
      "source": [
        "order = 1\n",
        "p = np.poly1d(np.polyfit(x, y ,order))\n",
        "\n",
        "print('The array p(x) stores the calculated y value from the polynomial model for each x value,\\n\\n{}.'.format(p(x)))\n",
        "print('\\nThe vector of coefficients p describes this regression model:\\n{}'.format(p))\n",
        "print('\\nThe zeroth order term (y-intercept or b) is stored in p[0]: {}.'.format(p[0]))\n",
        "print('\\nThe first order term (slope or m) is stored in p[1]: {}.'.format(p[1]))"
      ]
    },
    {
      "cell_type": "code",
      "execution_count": 17,
      "metadata": {
        "colab": {
          "base_uri": "https://localhost:8080/"
        },
        "id": "mC40RhhhCrOJ",
        "outputId": "543ad824-7cfd-4ecb-ccb6-1d7df360527e"
      },
      "outputs": [
        {
          "name": "stdout",
          "output_type": "stream",
          "text": [
            "r2_score = 0.83217523508888\n",
            "mean_squared_error = 5961.386465941158\n",
            "mean_absolute_error = 61.2232611786873\n"
          ]
        }
      ],
      "source": [
        "from sklearn.metrics import r2_score, mean_squared_error, mean_absolute_error\n",
        "\n",
        "print(f'r2_score = {r2_score(y, p(x))}\\nmean_squared_error = {mean_squared_error(y, p(x))}\\nmean_absolute_error = {mean_absolute_error(y, p(x))}')"
      ]
    },
    {
      "cell_type": "code",
      "execution_count": null,
      "metadata": {
        "id": "b-h36CiBD-tB"
      },
      "outputs": [],
      "source": []
    },
    {
      "cell_type": "code",
      "execution_count": null,
      "metadata": {},
      "outputs": [],
      "source": [
        "print(\"Выполнил Коновалов С.В.\")"
      ]
    }
  ],
  "metadata": {
    "colab": {
      "authorship_tag": "ABX9TyNISQxKKma0o+aWSZCqxD2V",
      "collapsed_sections": [],
      "include_colab_link": true,
      "name": "Lab 9.ipynb",
      "provenance": []
    },
    "kernelspec": {
      "display_name": "Python 3",
      "name": "python3"
    },
    "language_info": {
      "name": "python"
    }
  },
  "nbformat": 4,
  "nbformat_minor": 0
}
