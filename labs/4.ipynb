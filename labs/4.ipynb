{
  "cells": [
    {
      "cell_type": "markdown",
      "metadata": {
        "colab_type": "text",
        "id": "view-in-github"
      },
      "source": [
        "<a href=\"https://colab.research.google.com/github/Appendme/big_data_analysis/blob/master/Lab_4.ipynb\" target=\"_parent\"><img src=\"https://colab.research.google.com/assets/colab-badge.svg\" alt=\"Open In Colab\"/></a>"
      ]
    },
    {
      "cell_type": "code",
      "execution_count": null,
      "metadata": {
        "id": "mUz04MRkZttC"
      },
      "outputs": [],
      "source": [
        "import matplotlib.pyplot as plt, pandas as pd"
      ]
    },
    {
      "cell_type": "code",
      "execution_count": null,
      "metadata": {
        "id": "8xbJ-tPVa3D7"
      },
      "outputs": [],
      "source": [
        "df = pd.read_csv('samples/rpi_data_processed.csv')"
      ]
    },
    {
      "cell_type": "code",
      "execution_count": null,
      "metadata": {
        "colab": {
          "base_uri": "https://localhost:8080/",
          "height": 204
        },
        "id": "a9Gf-9vSa5Dc",
        "outputId": "fac7774a-56df-4df6-82ab-3d78f8b56509"
      },
      "outputs": [
        {
          "data": {
            "text/html": [
              "<div>\n",
              "<style scoped>\n",
              "    .dataframe tbody tr th:only-of-type {\n",
              "        vertical-align: middle;\n",
              "    }\n",
              "\n",
              "    .dataframe tbody tr th {\n",
              "        vertical-align: top;\n",
              "    }\n",
              "\n",
              "    .dataframe thead th {\n",
              "        text-align: right;\n",
              "    }\n",
              "</style>\n",
              "<table border=\"1\" class=\"dataframe\">\n",
              "  <thead>\n",
              "    <tr style=\"text-align: right;\">\n",
              "      <th></th>\n",
              "      <th>Date</th>\n",
              "      <th>Time</th>\n",
              "      <th>Ping (ms)</th>\n",
              "      <th>Download (Mbit/s)</th>\n",
              "      <th>Upload (Mbit/s)</th>\n",
              "    </tr>\n",
              "  </thead>\n",
              "  <tbody>\n",
              "    <tr>\n",
              "      <th>0</th>\n",
              "      <td>2016-11-24</td>\n",
              "      <td>13:36:25</td>\n",
              "      <td>26.992</td>\n",
              "      <td>91.80</td>\n",
              "      <td>14.31</td>\n",
              "    </tr>\n",
              "    <tr>\n",
              "      <th>1</th>\n",
              "      <td>2016-11-24</td>\n",
              "      <td>13:36:55</td>\n",
              "      <td>24.532</td>\n",
              "      <td>88.19</td>\n",
              "      <td>14.12</td>\n",
              "    </tr>\n",
              "    <tr>\n",
              "      <th>2</th>\n",
              "      <td>2016-11-24</td>\n",
              "      <td>13:37:25</td>\n",
              "      <td>20.225</td>\n",
              "      <td>59.86</td>\n",
              "      <td>14.11</td>\n",
              "    </tr>\n",
              "    <tr>\n",
              "      <th>3</th>\n",
              "      <td>2016-11-24</td>\n",
              "      <td>13:37:57</td>\n",
              "      <td>19.332</td>\n",
              "      <td>91.81</td>\n",
              "      <td>14.22</td>\n",
              "    </tr>\n",
              "    <tr>\n",
              "      <th>4</th>\n",
              "      <td>2016-11-24</td>\n",
              "      <td>13:38:27</td>\n",
              "      <td>22.494</td>\n",
              "      <td>92.05</td>\n",
              "      <td>14.08</td>\n",
              "    </tr>\n",
              "  </tbody>\n",
              "</table>\n",
              "</div>"
            ],
            "text/plain": [
              "         Date      Time  Ping (ms)  Download (Mbit/s)  Upload (Mbit/s)\n",
              "0  2016-11-24  13:36:25     26.992              91.80            14.31\n",
              "1  2016-11-24  13:36:55     24.532              88.19            14.12\n",
              "2  2016-11-24  13:37:25     20.225              59.86            14.11\n",
              "3  2016-11-24  13:37:57     19.332              91.81            14.22\n",
              "4  2016-11-24  13:38:27     22.494              92.05            14.08"
            ]
          },
          "execution_count": 89,
          "metadata": {
            "tags": []
          },
          "output_type": "execute_result"
        }
      ],
      "source": [
        "df.head()"
      ]
    },
    {
      "cell_type": "code",
      "execution_count": null,
      "metadata": {
        "colab": {
          "base_uri": "https://localhost:8080/",
          "height": 204
        },
        "id": "r5hXvAXIa5GJ",
        "outputId": "2ca7b54a-6e36-4283-aa25-93dfbb3341cf"
      },
      "outputs": [
        {
          "data": {
            "text/html": [
              "<div>\n",
              "<style scoped>\n",
              "    .dataframe tbody tr th:only-of-type {\n",
              "        vertical-align: middle;\n",
              "    }\n",
              "\n",
              "    .dataframe tbody tr th {\n",
              "        vertical-align: top;\n",
              "    }\n",
              "\n",
              "    .dataframe thead th {\n",
              "        text-align: right;\n",
              "    }\n",
              "</style>\n",
              "<table border=\"1\" class=\"dataframe\">\n",
              "  <thead>\n",
              "    <tr style=\"text-align: right;\">\n",
              "      <th></th>\n",
              "      <th>Date</th>\n",
              "      <th>Time</th>\n",
              "      <th>Ping (ms)</th>\n",
              "      <th>Download (Mbit/s)</th>\n",
              "      <th>Upload (Mbit/s)</th>\n",
              "    </tr>\n",
              "  </thead>\n",
              "  <tbody>\n",
              "    <tr>\n",
              "      <th>668</th>\n",
              "      <td>2016-11-24</td>\n",
              "      <td>19:15:32</td>\n",
              "      <td>20.952</td>\n",
              "      <td>88.67</td>\n",
              "      <td>14.35</td>\n",
              "    </tr>\n",
              "    <tr>\n",
              "      <th>669</th>\n",
              "      <td>2016-11-24</td>\n",
              "      <td>19:16:04</td>\n",
              "      <td>19.397</td>\n",
              "      <td>84.86</td>\n",
              "      <td>14.35</td>\n",
              "    </tr>\n",
              "    <tr>\n",
              "      <th>670</th>\n",
              "      <td>2016-11-24</td>\n",
              "      <td>19:16:34</td>\n",
              "      <td>20.117</td>\n",
              "      <td>84.99</td>\n",
              "      <td>14.33</td>\n",
              "    </tr>\n",
              "    <tr>\n",
              "      <th>671</th>\n",
              "      <td>2016-11-24</td>\n",
              "      <td>19:17:04</td>\n",
              "      <td>17.995</td>\n",
              "      <td>86.21</td>\n",
              "      <td>6.88</td>\n",
              "    </tr>\n",
              "    <tr>\n",
              "      <th>672</th>\n",
              "      <td>2016-11-24</td>\n",
              "      <td>19:18:16</td>\n",
              "      <td>22.175</td>\n",
              "      <td>85.69</td>\n",
              "      <td>14.23</td>\n",
              "    </tr>\n",
              "  </tbody>\n",
              "</table>\n",
              "</div>"
            ],
            "text/plain": [
              "           Date      Time  Ping (ms)  Download (Mbit/s)  Upload (Mbit/s)\n",
              "668  2016-11-24  19:15:32     20.952              88.67            14.35\n",
              "669  2016-11-24  19:16:04     19.397              84.86            14.35\n",
              "670  2016-11-24  19:16:34     20.117              84.99            14.33\n",
              "671  2016-11-24  19:17:04     17.995              86.21             6.88\n",
              "672  2016-11-24  19:18:16     22.175              85.69            14.23"
            ]
          },
          "execution_count": 90,
          "metadata": {
            "tags": []
          },
          "output_type": "execute_result"
        }
      ],
      "source": [
        "df.tail()"
      ]
    },
    {
      "cell_type": "code",
      "execution_count": null,
      "metadata": {
        "colab": {
          "base_uri": "https://localhost:8080/",
          "height": 297
        },
        "id": "FB6Bhaela5JI",
        "outputId": "ed812925-f038-4148-a806-9e65dc333c09"
      },
      "outputs": [
        {
          "data": {
            "text/html": [
              "<div>\n",
              "<style scoped>\n",
              "    .dataframe tbody tr th:only-of-type {\n",
              "        vertical-align: middle;\n",
              "    }\n",
              "\n",
              "    .dataframe tbody tr th {\n",
              "        vertical-align: top;\n",
              "    }\n",
              "\n",
              "    .dataframe thead th {\n",
              "        text-align: right;\n",
              "    }\n",
              "</style>\n",
              "<table border=\"1\" class=\"dataframe\">\n",
              "  <thead>\n",
              "    <tr style=\"text-align: right;\">\n",
              "      <th></th>\n",
              "      <th>Ping (ms)</th>\n",
              "      <th>Download (Mbit/s)</th>\n",
              "      <th>Upload (Mbit/s)</th>\n",
              "    </tr>\n",
              "  </thead>\n",
              "  <tbody>\n",
              "    <tr>\n",
              "      <th>count</th>\n",
              "      <td>673.000000</td>\n",
              "      <td>673.000000</td>\n",
              "      <td>673.000000</td>\n",
              "    </tr>\n",
              "    <tr>\n",
              "      <th>mean</th>\n",
              "      <td>21.115452</td>\n",
              "      <td>90.449212</td>\n",
              "      <td>13.697608</td>\n",
              "    </tr>\n",
              "    <tr>\n",
              "      <th>std</th>\n",
              "      <td>5.161225</td>\n",
              "      <td>3.465647</td>\n",
              "      <td>1.080471</td>\n",
              "    </tr>\n",
              "    <tr>\n",
              "      <th>min</th>\n",
              "      <td>16.167000</td>\n",
              "      <td>58.480000</td>\n",
              "      <td>6.210000</td>\n",
              "    </tr>\n",
              "    <tr>\n",
              "      <th>25%</th>\n",
              "      <td>19.115000</td>\n",
              "      <td>90.220000</td>\n",
              "      <td>13.640000</td>\n",
              "    </tr>\n",
              "    <tr>\n",
              "      <th>50%</th>\n",
              "      <td>20.322000</td>\n",
              "      <td>91.560000</td>\n",
              "      <td>13.980000</td>\n",
              "    </tr>\n",
              "    <tr>\n",
              "      <th>75%</th>\n",
              "      <td>21.843000</td>\n",
              "      <td>92.070000</td>\n",
              "      <td>14.180000</td>\n",
              "    </tr>\n",
              "    <tr>\n",
              "      <th>max</th>\n",
              "      <td>76.528000</td>\n",
              "      <td>92.870000</td>\n",
              "      <td>14.550000</td>\n",
              "    </tr>\n",
              "  </tbody>\n",
              "</table>\n",
              "</div>"
            ],
            "text/plain": [
              "        Ping (ms)  Download (Mbit/s)  Upload (Mbit/s)\n",
              "count  673.000000         673.000000       673.000000\n",
              "mean    21.115452          90.449212        13.697608\n",
              "std      5.161225           3.465647         1.080471\n",
              "min     16.167000          58.480000         6.210000\n",
              "25%     19.115000          90.220000        13.640000\n",
              "50%     20.322000          91.560000        13.980000\n",
              "75%     21.843000          92.070000        14.180000\n",
              "max     76.528000          92.870000        14.550000"
            ]
          },
          "execution_count": 91,
          "metadata": {
            "tags": []
          },
          "output_type": "execute_result"
        }
      ],
      "source": [
        "df.describe()"
      ]
    },
    {
      "cell_type": "code",
      "execution_count": null,
      "metadata": {
        "colab": {
          "base_uri": "https://localhost:8080/",
          "height": 204
        },
        "id": "90zxxG-ha5L2",
        "outputId": "444e2f1e-4336-4249-cb00-d0847292e413"
      },
      "outputs": [
        {
          "data": {
            "text/html": [
              "<div>\n",
              "<style scoped>\n",
              "    .dataframe tbody tr th:only-of-type {\n",
              "        vertical-align: middle;\n",
              "    }\n",
              "\n",
              "    .dataframe tbody tr th {\n",
              "        vertical-align: top;\n",
              "    }\n",
              "\n",
              "    .dataframe thead th {\n",
              "        text-align: right;\n",
              "    }\n",
              "</style>\n",
              "<table border=\"1\" class=\"dataframe\">\n",
              "  <thead>\n",
              "    <tr style=\"text-align: right;\">\n",
              "      <th></th>\n",
              "      <th>Date</th>\n",
              "      <th>Time</th>\n",
              "      <th>Ping (ms)</th>\n",
              "      <th>Download (Mbit/s)</th>\n",
              "      <th>Upload (Mbit/s)</th>\n",
              "      <th>rounded_ping</th>\n",
              "    </tr>\n",
              "  </thead>\n",
              "  <tbody>\n",
              "    <tr>\n",
              "      <th>0</th>\n",
              "      <td>2016-11-24</td>\n",
              "      <td>13:36:25</td>\n",
              "      <td>26.992</td>\n",
              "      <td>91.80</td>\n",
              "      <td>14.31</td>\n",
              "      <td>27.0</td>\n",
              "    </tr>\n",
              "    <tr>\n",
              "      <th>1</th>\n",
              "      <td>2016-11-24</td>\n",
              "      <td>13:36:55</td>\n",
              "      <td>24.532</td>\n",
              "      <td>88.19</td>\n",
              "      <td>14.12</td>\n",
              "      <td>25.0</td>\n",
              "    </tr>\n",
              "    <tr>\n",
              "      <th>2</th>\n",
              "      <td>2016-11-24</td>\n",
              "      <td>13:37:25</td>\n",
              "      <td>20.225</td>\n",
              "      <td>59.86</td>\n",
              "      <td>14.11</td>\n",
              "      <td>20.0</td>\n",
              "    </tr>\n",
              "    <tr>\n",
              "      <th>3</th>\n",
              "      <td>2016-11-24</td>\n",
              "      <td>13:37:57</td>\n",
              "      <td>19.332</td>\n",
              "      <td>91.81</td>\n",
              "      <td>14.22</td>\n",
              "      <td>19.0</td>\n",
              "    </tr>\n",
              "    <tr>\n",
              "      <th>4</th>\n",
              "      <td>2016-11-24</td>\n",
              "      <td>13:38:27</td>\n",
              "      <td>22.494</td>\n",
              "      <td>92.05</td>\n",
              "      <td>14.08</td>\n",
              "      <td>22.0</td>\n",
              "    </tr>\n",
              "  </tbody>\n",
              "</table>\n",
              "</div>"
            ],
            "text/plain": [
              "         Date      Time  ...  Upload (Mbit/s)  rounded_ping\n",
              "0  2016-11-24  13:36:25  ...            14.31          27.0\n",
              "1  2016-11-24  13:36:55  ...            14.12          25.0\n",
              "2  2016-11-24  13:37:25  ...            14.11          20.0\n",
              "3  2016-11-24  13:37:57  ...            14.22          19.0\n",
              "4  2016-11-24  13:38:27  ...            14.08          22.0\n",
              "\n",
              "[5 rows x 6 columns]"
            ]
          },
          "execution_count": 92,
          "metadata": {
            "tags": []
          },
          "output_type": "execute_result"
        }
      ],
      "source": [
        "df['rounded_ping'] = df['Ping (ms)'].round(0)\n",
        "df.head()"
      ]
    },
    {
      "cell_type": "code",
      "execution_count": null,
      "metadata": {
        "colab": {
          "base_uri": "https://localhost:8080/",
          "height": 204
        },
        "id": "RlYn4yl3-Ka-",
        "outputId": "ea0f4e38-b1a1-4a27-b8d6-4fe1745f7e7c"
      },
      "outputs": [
        {
          "data": {
            "text/html": [
              "<div>\n",
              "<style scoped>\n",
              "    .dataframe tbody tr th:only-of-type {\n",
              "        vertical-align: middle;\n",
              "    }\n",
              "\n",
              "    .dataframe tbody tr th {\n",
              "        vertical-align: top;\n",
              "    }\n",
              "\n",
              "    .dataframe thead th {\n",
              "        text-align: right;\n",
              "    }\n",
              "</style>\n",
              "<table border=\"1\" class=\"dataframe\">\n",
              "  <thead>\n",
              "    <tr style=\"text-align: right;\">\n",
              "      <th></th>\n",
              "      <th>Date</th>\n",
              "      <th>Time</th>\n",
              "      <th>Ping (ms)</th>\n",
              "      <th>Download (Mbit/s)</th>\n",
              "      <th>Upload (Mbit/s)</th>\n",
              "      <th>rounded_ping</th>\n",
              "      <th>diff</th>\n",
              "    </tr>\n",
              "  </thead>\n",
              "  <tbody>\n",
              "    <tr>\n",
              "      <th>0</th>\n",
              "      <td>2016-11-24</td>\n",
              "      <td>13:36:25</td>\n",
              "      <td>26.992</td>\n",
              "      <td>91.80</td>\n",
              "      <td>14.31</td>\n",
              "      <td>27.0</td>\n",
              "      <td>17.0</td>\n",
              "    </tr>\n",
              "    <tr>\n",
              "      <th>1</th>\n",
              "      <td>2016-11-24</td>\n",
              "      <td>13:36:55</td>\n",
              "      <td>24.532</td>\n",
              "      <td>88.19</td>\n",
              "      <td>14.12</td>\n",
              "      <td>25.0</td>\n",
              "      <td>15.0</td>\n",
              "    </tr>\n",
              "    <tr>\n",
              "      <th>2</th>\n",
              "      <td>2016-11-24</td>\n",
              "      <td>13:37:25</td>\n",
              "      <td>20.225</td>\n",
              "      <td>59.86</td>\n",
              "      <td>14.11</td>\n",
              "      <td>20.0</td>\n",
              "      <td>10.0</td>\n",
              "    </tr>\n",
              "    <tr>\n",
              "      <th>3</th>\n",
              "      <td>2016-11-24</td>\n",
              "      <td>13:37:57</td>\n",
              "      <td>19.332</td>\n",
              "      <td>91.81</td>\n",
              "      <td>14.22</td>\n",
              "      <td>19.0</td>\n",
              "      <td>9.0</td>\n",
              "    </tr>\n",
              "    <tr>\n",
              "      <th>4</th>\n",
              "      <td>2016-11-24</td>\n",
              "      <td>13:38:27</td>\n",
              "      <td>22.494</td>\n",
              "      <td>92.05</td>\n",
              "      <td>14.08</td>\n",
              "      <td>22.0</td>\n",
              "      <td>12.0</td>\n",
              "    </tr>\n",
              "  </tbody>\n",
              "</table>\n",
              "</div>"
            ],
            "text/plain": [
              "         Date      Time  Ping (ms)  ...  Upload (Mbit/s)  rounded_ping  diff\n",
              "0  2016-11-24  13:36:25     26.992  ...            14.31          27.0  17.0\n",
              "1  2016-11-24  13:36:55     24.532  ...            14.12          25.0  15.0\n",
              "2  2016-11-24  13:37:25     20.225  ...            14.11          20.0  10.0\n",
              "3  2016-11-24  13:37:57     19.332  ...            14.22          19.0   9.0\n",
              "4  2016-11-24  13:38:27     22.494  ...            14.08          22.0  12.0\n",
              "\n",
              "[5 rows x 7 columns]"
            ]
          },
          "execution_count": 93,
          "metadata": {
            "tags": []
          },
          "output_type": "execute_result"
        }
      ],
      "source": [
        "df['diff'] = df['rounded_ping'] - 10\n",
        "df.head()"
      ]
    },
    {
      "cell_type": "code",
      "execution_count": null,
      "metadata": {
        "colab": {
          "base_uri": "https://localhost:8080/"
        },
        "id": "6j5NyfCr-KX7",
        "outputId": "80f6d25d-75ad-4693-ba6a-20eef6ca61a4"
      },
      "outputs": [
        {
          "name": "stdout",
          "output_type": "stream",
          "text": [
            "There are 673 records in the data\n",
            "The mean of the distribution is 21.12 and the median is 20.0\n",
            "The standart deviation of distribution is 5.179\n",
            "The minimum value is 16.0, the maximum value is 77.0, and the range is 61.0\n"
          ]
        }
      ],
      "source": [
        "rndd = df['rounded_ping']\n",
        "print(f'There are {rndd.count()} records in the data')\n",
        "print(f'The mean of the distribution is {rndd.mean():.2f} and the median is {rndd.median()}')\n",
        "print(f'The standart deviation of distribution is {rndd.std():.3f}')\n",
        "print(f'The minimum value is {rndd.min()}, the maximum value is {rndd.max()}, and the range is {rndd.max() - rndd.min()}')"
      ]
    },
    {
      "cell_type": "code",
      "execution_count": null,
      "metadata": {
        "colab": {
          "base_uri": "https://localhost:8080/",
          "height": 204
        },
        "id": "1Ea1sHJd-KVL",
        "outputId": "c6e42d2e-b4cb-494b-c95b-e97defce80be"
      },
      "outputs": [
        {
          "data": {
            "text/html": [
              "<div>\n",
              "<style scoped>\n",
              "    .dataframe tbody tr th:only-of-type {\n",
              "        vertical-align: middle;\n",
              "    }\n",
              "\n",
              "    .dataframe tbody tr th {\n",
              "        vertical-align: top;\n",
              "    }\n",
              "\n",
              "    .dataframe thead th {\n",
              "        text-align: right;\n",
              "    }\n",
              "</style>\n",
              "<table border=\"1\" class=\"dataframe\">\n",
              "  <thead>\n",
              "    <tr style=\"text-align: right;\">\n",
              "      <th></th>\n",
              "      <th>value</th>\n",
              "      <th>freq</th>\n",
              "    </tr>\n",
              "  </thead>\n",
              "  <tbody>\n",
              "    <tr>\n",
              "      <th>0</th>\n",
              "      <td>20.0</td>\n",
              "      <td>135</td>\n",
              "    </tr>\n",
              "    <tr>\n",
              "      <th>1</th>\n",
              "      <td>19.0</td>\n",
              "      <td>122</td>\n",
              "    </tr>\n",
              "    <tr>\n",
              "      <th>2</th>\n",
              "      <td>21.0</td>\n",
              "      <td>116</td>\n",
              "    </tr>\n",
              "    <tr>\n",
              "      <th>3</th>\n",
              "      <td>22.0</td>\n",
              "      <td>90</td>\n",
              "    </tr>\n",
              "    <tr>\n",
              "      <th>4</th>\n",
              "      <td>18.0</td>\n",
              "      <td>75</td>\n",
              "    </tr>\n",
              "  </tbody>\n",
              "</table>\n",
              "</div>"
            ],
            "text/plain": [
              "   value  freq\n",
              "0   20.0   135\n",
              "1   19.0   122\n",
              "2   21.0   116\n",
              "3   22.0    90\n",
              "4   18.0    75"
            ]
          },
          "execution_count": 96,
          "metadata": {
            "tags": []
          },
          "output_type": "execute_result"
        }
      ],
      "source": [
        "freq = rndd.value_counts()\n",
        "freq = freq.to_frame() .reset_index()\n",
        "freq.columns = ['value', 'freq']\n",
        "freq.head()"
      ]
    },
    {
      "cell_type": "code",
      "execution_count": null,
      "metadata": {
        "colab": {
          "base_uri": "https://localhost:8080/",
          "height": 514
        },
        "id": "Q3Z1KiYS-KP8",
        "outputId": "2cedaf99-5836-468f-f5fc-9f134b0c5c01"
      },
      "outputs": [
        {
          "data": {
            "text/plain": [
              "Text(0, 0.5, 'Frequncy')"
            ]
          },
          "execution_count": 97,
          "metadata": {
            "tags": []
          },
          "output_type": "execute_result"
        },
        {
          "data": {
            "image/png": "[encoded data removed]",
            "text/plain": [
              "<Figure size 720x576 with 1 Axes>"
            ]
          },
          "metadata": {
            "needs_background": "light",
            "tags": []
          },
          "output_type": "display_data"
        }
      ],
      "source": [
        "plt.figure(figsize = (10, 8))\n",
        "plt.plot(freq.value, freq.freq, 'o', markersize = 5, color = 'b')\n",
        "plt.xlabel('Ping')\n",
        "plt.ylabel('Frequncy')"
      ]
    },
    {
      "cell_type": "code",
      "execution_count": null,
      "metadata": {},
      "outputs": [],
      "source": [
        "print(\"Выполнил: Коновалов С.В\")\n",
        "print(\"Какие статистические значения для датафрейма позволяет получить метод describe?\")\n",
        "print(\"Для чисел:\n",
        "\"Количество, среднее значение, среднеквадратическое отклонение, минимальное и максимальное значение, медиана.\"\n",
        "\"Для строк:\"\n",
        "\"Количество, уникальные строки, наиболее часто встречаемая строка и количество часто встречаемых строк\")\n",
        "print(\"Как добавить в датафрейм новый столбец с данными?\")\n",
        "print(\"К объекту DataFrame в квадратных скобках в качестве индека указать строку, если указаной строки не будет в загаловках и создаваемая таблица будет инициализирована значением то в таблице будет создан новый столбец.\")\n",
        "print(\"Что такое частотное распределение данных?\")\n",
        "print(\"Частотное распределение данных отображает частоту различных исходов в выборке\")\n",
        "print(\"Что делает функция to_frame, почему необходимо преобразовать серию данных в датафрейм?\")\n",
        "print(\"Функция to_fram преобразует серию данных в фрейм, серия данных представляет собой одномерный массив, а датафрейм набор одномерных массивов.\")\n",
        "print(\"Как при выводе значения переменной в текстовой строке оставить только 2 цифры после десятичной точки, если исходное значение содержит больше цифр?\")\n",
        "print(\"Первый способ: Использовать форматирование строк.\\n Второй способ: использовать функцию round\")"
      ]
    }
  ],
  "metadata": {
    "colab": {
      "authorship_tag": "ABX9TyMPKJt/6PVYEK9JlSO7nRVZ",
      "collapsed_sections": [],
      "include_colab_link": true,
      "name": "Lab 4.ipynb",
      "provenance": [],
      "toc_visible": true
    },
    "kernelspec": {
      "display_name": "Python 3",
      "name": "python3"
    },
    "language_info": {
      "name": "python"
    }
  },
  "nbformat": 4,
  "nbformat_minor": 0
}
