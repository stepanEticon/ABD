{
  "cells": [
    {
      "cell_type": "markdown",
      "metadata": {
        "colab_type": "text",
        "id": "view-in-github"
      },
      "source": [
        "<a href=\"https://colab.research.google.com/github/Appendme/big_data_analysis/blob/master/Lab_2.ipynb\" target=\"_parent\"><img src=\"https://colab.research.google.com/assets/colab-badge.svg\" alt=\"Open In Colab\"/></a>"
      ]
    },
    {
      "cell_type": "code",
      "execution_count": null,
      "metadata": {
        "colab": {
          "base_uri": "https://localhost:8080/"
        },
        "id": "Es0Vtu8DO69Q",
        "outputId": "a8864b8f-674a-4316-8313-80b7dfa8ed16"
      },
      "outputs": [
        {
          "name": "stdout",
          "output_type": "stream",
          "text": [
            "Collecting speedtest-cli\n",
            "  Downloading https://files.pythonhosted.org/packages/c4/44/dfebd38c5fb35aae0a7279e2a3ffe33ca65edb449a586b93addc8d409a71/speedtest_cli-2.1.2-py2.py3-none-any.whl\n",
            "Installing collected packages: speedtest-cli\n",
            "Successfully installed speedtest-cli-2.1.2\n"
          ]
        }
      ],
      "source": [
        "!pip install speedtest-cli"
      ]
    },
    {
      "cell_type": "code",
      "execution_count": null,
      "metadata": {
        "id": "yUHTpn6RPJ-Y"
      },
      "outputs": [],
      "source": [
        "import time, datetime, csv, subprocess as sp, pandas as pd"
      ]
    },
    {
      "cell_type": "code",
      "execution_count": null,
      "metadata": {
        "id": "lD3Ym2ljPLmi"
      },
      "outputs": [],
      "source": [
        "def speedtest(args = '--simple'):\n",
        "    cmd = ['speedtest-cli'] + args.split()\n",
        "    process = sp.Popen(cmd, stdout=sp.PIPE)\n",
        "    output = process.communicate()[0].split()[1::3]\n",
        "    output = [float(d) for d in output]\n",
        "    return output + [datetime.datetime.now().strftime(\"%Y-%m-%d %H:%M:%S\")]"
      ]
    },
    {
      "cell_type": "code",
      "execution_count": null,
      "metadata": {
        "id": "rLZwIsvVWTEI"
      },
      "outputs": [],
      "source": [
        "def print_from_csv(filename):\n",
        "    try:\n",
        "        with open(filename + '.csv', 'r') as f:\n",
        "            for row in csv.reader(f):\n",
        "                print(row)\n",
        "    except Exception as e:\n",
        "        print(e)"
      ]
    },
    {
      "cell_type": "code",
      "execution_count": null,
      "metadata": {
        "colab": {
          "base_uri": "https://localhost:8080/"
        },
        "id": "Y2v20mVsuWbI",
        "outputId": "469ec27a-1b3f-40a7-f1b0-15bdced6a101"
      },
      "outputs": [
        {
          "name": "stdout",
          "output_type": "stream",
          "text": [
            "#  0 Ping:   5.40 Download 1973.32 Upload 774.47 Datetime: 2021-03-25 16:01:58\n",
            "#  1 Ping:   5.14 Download 1984.46 Upload 761.61 Datetime: 2021-03-25 16:02:03\n",
            "#  2 Ping:   5.62 Download 1789.24 Upload 671.05 Datetime: 2021-03-25 16:02:08\n",
            "#  3 Ping:   5.58 Download 1908.93 Upload 753.02 Datetime: 2021-03-25 16:02:12\n",
            "#  4 Ping:   5.41 Download 1949.69 Upload 689.72 Datetime: 2021-03-25 16:02:17\n",
            "#  5 Ping:   5.54 Download 1824.22 Upload 572.31 Datetime: 2021-03-25 16:02:22\n",
            "#  6 Ping:   5.77 Download 1672.99 Upload 649.85 Datetime: 2021-03-25 16:02:27\n",
            "#  7 Ping:   5.44 Download 1823.88 Upload 682.69 Datetime: 2021-03-25 16:02:32\n",
            "#  8 Ping:   5.81 Download 1905.03 Upload 637.40 Datetime: 2021-03-25 16:02:37\n",
            "#  9 Ping:   5.39 Download 1841.60 Upload 653.48 Datetime: 2021-03-25 16:02:42\n",
            "# 10 Ping:   5.41 Download 1828.51 Upload 710.97 Datetime: 2021-03-25 16:02:47\n",
            "# 11 Ping:   5.86 Download 1903.52 Upload 682.65 Datetime: 2021-03-25 16:02:52\n",
            "# 12 Ping:   5.75 Download 1760.72 Upload 764.60 Datetime: 2021-03-25 16:02:56\n",
            "# 13 Ping:   5.46 Download 1840.55 Upload 715.86 Datetime: 2021-03-25 16:03:01\n",
            "# 14 Ping:   5.57 Download 1907.37 Upload 672.86 Datetime: 2021-03-25 16:03:06\n",
            "# 15 Ping:   5.46 Download 1957.65 Upload 690.32 Datetime: 2021-03-25 16:03:11\n",
            "# 16 Ping:   5.54 Download 1911.57 Upload 770.22 Datetime: 2021-03-25 16:03:15\n",
            "# 17 Ping:   5.45 Download 1899.73 Upload 693.21 Datetime: 2021-03-25 16:03:20\n",
            "# 18 Ping:   5.59 Download 1800.12 Upload 685.41 Datetime: 2021-03-25 16:03:25\n",
            "# 19 Ping:   5.42 Download 1836.46 Upload 694.37 Datetime: 2021-03-25 16:03:30\n",
            "# 20 Ping:   5.67 Download 1802.09 Upload 758.24 Datetime: 2021-03-25 16:03:34\n",
            "# 21 Ping:   5.63 Download 1795.01 Upload 678.02 Datetime: 2021-03-25 16:03:39\n",
            "# 22 Ping:   5.49 Download 1955.02 Upload 761.67 Datetime: 2021-03-25 16:03:44\n",
            "# 23 Ping:   5.67 Download 1964.16 Upload 733.68 Datetime: 2021-03-25 16:03:48\n",
            "# 24 Ping:   5.40 Download 1906.54 Upload 720.19 Datetime: 2021-03-25 16:03:53\n",
            "# 25 Ping:   5.43 Download 1815.92 Upload 689.36 Datetime: 2021-03-25 16:03:58\n",
            "# 26 Ping:   5.49 Download 1951.67 Upload 741.86 Datetime: 2021-03-25 16:04:03\n",
            "# 27 Ping:   5.64 Download 1829.36 Upload 729.69 Datetime: 2021-03-25 16:04:07\n",
            "# 28 Ping:   5.37 Download 1795.48 Upload 708.41 Datetime: 2021-03-25 16:04:12\n",
            "# 29 Ping:   5.60 Download 1962.46 Upload 740.67 Datetime: 2021-03-25 16:04:17\n",
            "# 30 Ping:   5.40 Download 1799.86 Upload 733.56 Datetime: 2021-03-25 16:04:21\n",
            "# 31 Ping:   5.28 Download 1977.15 Upload 744.58 Datetime: 2021-03-25 16:04:26\n",
            "# 32 Ping:   5.41 Download 1908.85 Upload 697.01 Datetime: 2021-03-25 16:04:31\n",
            "# 33 Ping:   5.58 Download 1869.87 Upload 734.09 Datetime: 2021-03-25 16:04:35\n",
            "# 34 Ping:   5.68 Download 1957.74 Upload 762.57 Datetime: 2021-03-25 16:04:40\n",
            "# 35 Ping:   5.47 Download 1793.30 Upload 678.45 Datetime: 2021-03-25 16:04:45\n",
            "# 36 Ping:   5.32 Download 1828.74 Upload 781.11 Datetime: 2021-03-25 16:04:49\n",
            "# 37 Ping:   5.45 Download 1972.26 Upload 702.96 Datetime: 2021-03-25 16:04:54\n",
            "# 38 Ping:   5.46 Download 1951.72 Upload 672.68 Datetime: 2021-03-25 16:04:59\n",
            "# 39 Ping:   5.66 Download 1959.49 Upload 766.51 Datetime: 2021-03-25 16:05:03\n",
            "# 40 Ping:   5.37 Download 1802.35 Upload 735.71 Datetime: 2021-03-25 16:05:08\n",
            "# 41 Ping:   5.43 Download 1776.44 Upload 682.73 Datetime: 2021-03-25 16:05:13\n",
            "# 42 Ping:   5.53 Download 1965.42 Upload 705.72 Datetime: 2021-03-25 16:05:18\n",
            "# 43 Ping:   5.29 Download 1840.00 Upload 699.45 Datetime: 2021-03-25 16:05:22\n",
            "# 44 Ping:   5.42 Download 1771.97 Upload 723.84 Datetime: 2021-03-25 16:05:27\n",
            "# 45 Ping:   5.56 Download 1964.77 Upload 700.24 Datetime: 2021-03-25 16:05:32\n",
            "# 46 Ping:   5.41 Download 1969.31 Upload 691.12 Datetime: 2021-03-25 16:05:37\n",
            "# 47 Ping:   5.61 Download 1934.60 Upload 737.05 Datetime: 2021-03-25 16:05:41\n",
            "# 48 Ping:   5.42 Download 1808.71 Upload 697.43 Datetime: 2021-03-25 16:05:46\n",
            "# 49 Ping:   5.34 Download 1929.01 Upload 763.52 Datetime: 2021-03-25 16:05:51\n",
            "# 50 Ping:   5.51 Download 1804.75 Upload 729.09 Datetime: 2021-03-25 16:05:55\n",
            "# 51 Ping:   5.32 Download 1868.30 Upload 777.01 Datetime: 2021-03-25 16:06:00\n",
            "# 52 Ping:   5.27 Download 1925.55 Upload 732.18 Datetime: 2021-03-25 16:06:05\n",
            "# 53 Ping:   5.77 Download 1680.09 Upload 739.46 Datetime: 2021-03-25 16:06:09\n",
            "# 54 Ping:   5.46 Download 1999.28 Upload 721.45 Datetime: 2021-03-25 16:06:14\n",
            "# 55 Ping:   5.73 Download 1993.08 Upload 667.75 Datetime: 2021-03-25 16:06:19\n",
            "# 56 Ping:   5.44 Download 1805.18 Upload 669.59 Datetime: 2021-03-25 16:06:24\n",
            "# 57 Ping:   5.79 Download 1898.58 Upload 669.01 Datetime: 2021-03-25 16:06:29\n",
            "# 58 Ping:   5.42 Download 1964.13 Upload 743.48 Datetime: 2021-03-25 16:06:33\n",
            "# 59 Ping:   5.60 Download 1959.13 Upload 763.83 Datetime: 2021-03-25 16:06:38\n",
            "# 60 Ping:   5.65 Download 1899.54 Upload 589.31 Datetime: 2021-03-25 16:06:43\n",
            "# 61 Ping:   5.44 Download 1991.96 Upload 693.01 Datetime: 2021-03-25 16:06:48\n",
            "# 62 Ping:   5.89 Download 1823.76 Upload 688.08 Datetime: 2021-03-25 16:06:52\n",
            "# 63 Ping:   5.53 Download 1951.26 Upload 689.27 Datetime: 2021-03-25 16:06:57\n",
            "# 64 Ping:   5.41 Download 1835.58 Upload 748.49 Datetime: 2021-03-25 16:07:02\n",
            "# 65 Ping:   6.03 Download 1861.82 Upload 691.84 Datetime: 2021-03-25 16:07:07\n",
            "# 66 Ping:   5.63 Download 1831.20 Upload 756.32 Datetime: 2021-03-25 16:07:11\n",
            "# 67 Ping:   5.50 Download 1832.14 Upload 712.91 Datetime: 2021-03-25 16:07:16\n",
            "# 68 Ping:   5.76 Download 1982.20 Upload 754.06 Datetime: 2021-03-25 16:07:21\n",
            "# 69 Ping:   5.65 Download 1935.78 Upload 651.85 Datetime: 2021-03-25 16:07:26\n",
            "# 70 Ping:   5.55 Download 1655.91 Upload 655.42 Datetime: 2021-03-25 16:07:31\n",
            "# 71 Ping:   5.69 Download 1810.83 Upload 693.81 Datetime: 2021-03-25 16:07:36\n",
            "# 72 Ping:   5.55 Download 1804.23 Upload 705.11 Datetime: 2021-03-25 16:07:41\n",
            "# 73 Ping:   5.74 Download 1875.17 Upload 648.24 Datetime: 2021-03-25 16:07:46\n",
            "# 74 Ping:   5.60 Download 1893.30 Upload 718.51 Datetime: 2021-03-25 16:07:51\n",
            "# 75 Ping:   5.40 Download 1793.73 Upload 773.88 Datetime: 2021-03-25 16:07:55\n",
            "# 76 Ping:   5.28 Download 1949.55 Upload 746.57 Datetime: 2021-03-25 16:08:00\n",
            "# 77 Ping:   5.62 Download 1963.93 Upload 730.34 Datetime: 2021-03-25 16:08:05\n",
            "# 78 Ping:   5.72 Download 1966.63 Upload 737.71 Datetime: 2021-03-25 16:08:09\n",
            "# 79 Ping:   5.68 Download 1890.98 Upload 724.94 Datetime: 2021-03-25 16:08:14\n",
            "# 80 Ping:   5.58 Download 1658.86 Upload 701.89 Datetime: 2021-03-25 16:08:19\n",
            "# 81 Ping:   5.47 Download 1770.84 Upload 721.58 Datetime: 2021-03-25 16:08:24\n",
            "# 82 Ping:   5.41 Download 1807.53 Upload 683.19 Datetime: 2021-03-25 16:08:28\n",
            "# 83 Ping:   5.49 Download 1783.18 Upload 682.27 Datetime: 2021-03-25 16:08:33\n",
            "# 84 Ping:   5.47 Download 1828.12 Upload 757.16 Datetime: 2021-03-25 16:08:38\n",
            "# 85 Ping:   5.61 Download 1837.66 Upload 668.59 Datetime: 2021-03-25 16:08:43\n",
            "# 86 Ping:   5.57 Download 2024.29 Upload 721.74 Datetime: 2021-03-25 16:08:47\n",
            "# 87 Ping:   5.54 Download 1844.82 Upload 677.80 Datetime: 2021-03-25 16:08:52\n",
            "# 88 Ping:   5.49 Download 1810.17 Upload 720.61 Datetime: 2021-03-25 16:08:57\n",
            "# 89 Ping:   5.71 Download 1974.19 Upload 726.24 Datetime: 2021-03-25 16:09:02\n",
            "# 90 Ping:   5.46 Download 1965.23 Upload 748.39 Datetime: 2021-03-25 16:09:06\n",
            "# 91 Ping:   5.77 Download 1958.18 Upload 664.25 Datetime: 2021-03-25 16:09:11\n",
            "# 92 Ping:   5.56 Download 1773.80 Upload 716.25 Datetime: 2021-03-25 16:09:16\n",
            "# 93 Ping:   5.49 Download 1784.57 Upload 679.12 Datetime: 2021-03-25 16:09:21\n",
            "# 94 Ping:   5.51 Download 1982.46 Upload 667.73 Datetime: 2021-03-25 16:09:26\n",
            "# 95 Ping:   5.20 Download 1772.17 Upload 714.59 Datetime: 2021-03-25 16:09:30\n",
            "# 96 Ping:   5.64 Download 1935.95 Upload 690.08 Datetime: 2021-03-25 16:09:35\n",
            "# 97 Ping:   5.53 Download 1902.02 Upload 767.11 Datetime: 2021-03-25 16:09:40\n",
            "# 98 Ping:   5.49 Download 1973.46 Upload 734.48 Datetime: 2021-03-25 16:09:45\n",
            "# 99 Ping:   5.36 Download 1944.27 Upload 726.04 Datetime: 2021-03-25 16:09:49\n"
          ]
        }
      ],
      "source": [
        "try:\n",
        "    with open('speed.csv', 'a') as file:\n",
        "        w = csv.writer(file)\n",
        "\n",
        "        for i in range(100):\n",
        "            current = speedtest()\n",
        "            w.writerow(current)\n",
        "\n",
        "            (p, d, u, t) = current\n",
        "            print(f'#{i:3} Ping: {p:6.2f} Download {d:6.2f} Upload {u:6.2f} Datetime: {t}')\n",
        "            time.sleep(0.5)\n",
        "\n",
        "except KeyboardInterrupt:\n",
        "    pass\n",
        "except Exception as e:\n",
        "    print(e)"
      ]
    },
    {
      "cell_type": "code",
      "execution_count": null,
      "metadata": {
        "id": "0ThsYvVLV42T"
      },
      "outputs": [],
      "source": [
        "print_from_csv('speed')"
      ]
    },
    {
      "cell_type": "code",
      "execution_count": null,
      "metadata": {
        "colab": {
          "base_uri": "https://localhost:8080/",
          "height": 204
        },
        "id": "MppCYPU_5Iob",
        "outputId": "d3e16efc-9727-400e-ba1e-7be6727ac328"
      },
      "outputs": [
        {
          "data": {
            "text/html": [
              "<div>\n",
              "<style scoped>\n",
              "    .dataframe tbody tr th:only-of-type {\n",
              "        vertical-align: middle;\n",
              "    }\n",
              "\n",
              "    .dataframe tbody tr th {\n",
              "        vertical-align: top;\n",
              "    }\n",
              "\n",
              "    .dataframe thead th {\n",
              "        text-align: right;\n",
              "    }\n",
              "</style>\n",
              "<table border=\"1\" class=\"dataframe\">\n",
              "  <thead>\n",
              "    <tr style=\"text-align: right;\">\n",
              "      <th></th>\n",
              "      <th>Ping (ms)</th>\n",
              "      <th>Download (Mbit/s)</th>\n",
              "      <th>Upload (Mbit/s)</th>\n",
              "      <th>Datetime</th>\n",
              "    </tr>\n",
              "  </thead>\n",
              "  <tbody>\n",
              "    <tr>\n",
              "      <th>0</th>\n",
              "      <td>6.337</td>\n",
              "      <td>1693.43</td>\n",
              "      <td>727.14</td>\n",
              "      <td>2021-03-25 16:00:34</td>\n",
              "    </tr>\n",
              "    <tr>\n",
              "      <th>1</th>\n",
              "      <td>6.492</td>\n",
              "      <td>1986.93</td>\n",
              "      <td>632.61</td>\n",
              "      <td>2021-03-25 16:00:39</td>\n",
              "    </tr>\n",
              "    <tr>\n",
              "      <th>2</th>\n",
              "      <td>5.450</td>\n",
              "      <td>2046.72</td>\n",
              "      <td>622.69</td>\n",
              "      <td>2021-03-25 16:00:44</td>\n",
              "    </tr>\n",
              "    <tr>\n",
              "      <th>3</th>\n",
              "      <td>5.453</td>\n",
              "      <td>1771.34</td>\n",
              "      <td>736.38</td>\n",
              "      <td>2021-03-25 16:00:48</td>\n",
              "    </tr>\n",
              "    <tr>\n",
              "      <th>4</th>\n",
              "      <td>5.118</td>\n",
              "      <td>1940.92</td>\n",
              "      <td>706.64</td>\n",
              "      <td>2021-03-25 16:00:53</td>\n",
              "    </tr>\n",
              "  </tbody>\n",
              "</table>\n",
              "</div>"
            ],
            "text/plain": [
              "   Ping (ms)  Download (Mbit/s)  Upload (Mbit/s)             Datetime\n",
              "0      6.337            1693.43           727.14  2021-03-25 16:00:34\n",
              "1      6.492            1986.93           632.61  2021-03-25 16:00:39\n",
              "2      5.450            2046.72           622.69  2021-03-25 16:00:44\n",
              "3      5.453            1771.34           736.38  2021-03-25 16:00:48\n",
              "4      5.118            1940.92           706.64  2021-03-25 16:00:53"
            ]
          },
          "execution_count": 162,
          "metadata": {
            "tags": []
          },
          "output_type": "execute_result"
        }
      ],
      "source": [
        "df = pd.read_csv('speed.csv', names = ['Ping (ms)', 'Download (Mbit/s)', 'Upload (Mbit/s)', 'Datetime'])\n",
        "df.head()"
      ]
    },
    {
      "cell_type": "code",
      "execution_count": null,
      "metadata": {
        "colab": {
          "base_uri": "https://localhost:8080/",
          "height": 204
        },
        "id": "GIfEEE7tBqc0",
        "outputId": "5351dc82-8a94-46d3-b4f9-9f24dc1994c9"
      },
      "outputs": [
        {
          "data": {
            "text/html": [
              "<div>\n",
              "<style scoped>\n",
              "    .dataframe tbody tr th:only-of-type {\n",
              "        vertical-align: middle;\n",
              "    }\n",
              "\n",
              "    .dataframe tbody tr th {\n",
              "        vertical-align: top;\n",
              "    }\n",
              "\n",
              "    .dataframe thead th {\n",
              "        text-align: right;\n",
              "    }\n",
              "</style>\n",
              "<table border=\"1\" class=\"dataframe\">\n",
              "  <thead>\n",
              "    <tr style=\"text-align: right;\">\n",
              "      <th></th>\n",
              "      <th>Ping (ms)</th>\n",
              "      <th>Download (Mbit/s)</th>\n",
              "      <th>Upload (Mbit/s)</th>\n",
              "      <th>Date</th>\n",
              "      <th>Time</th>\n",
              "    </tr>\n",
              "  </thead>\n",
              "  <tbody>\n",
              "    <tr>\n",
              "      <th>0</th>\n",
              "      <td>6.337</td>\n",
              "      <td>1693.43</td>\n",
              "      <td>727.14</td>\n",
              "      <td>2021-03-25</td>\n",
              "      <td>16:00:34</td>\n",
              "    </tr>\n",
              "    <tr>\n",
              "      <th>1</th>\n",
              "      <td>6.492</td>\n",
              "      <td>1986.93</td>\n",
              "      <td>632.61</td>\n",
              "      <td>2021-03-25</td>\n",
              "      <td>16:00:39</td>\n",
              "    </tr>\n",
              "    <tr>\n",
              "      <th>2</th>\n",
              "      <td>5.450</td>\n",
              "      <td>2046.72</td>\n",
              "      <td>622.69</td>\n",
              "      <td>2021-03-25</td>\n",
              "      <td>16:00:44</td>\n",
              "    </tr>\n",
              "    <tr>\n",
              "      <th>3</th>\n",
              "      <td>5.453</td>\n",
              "      <td>1771.34</td>\n",
              "      <td>736.38</td>\n",
              "      <td>2021-03-25</td>\n",
              "      <td>16:00:48</td>\n",
              "    </tr>\n",
              "    <tr>\n",
              "      <th>4</th>\n",
              "      <td>5.118</td>\n",
              "      <td>1940.92</td>\n",
              "      <td>706.64</td>\n",
              "      <td>2021-03-25</td>\n",
              "      <td>16:00:53</td>\n",
              "    </tr>\n",
              "  </tbody>\n",
              "</table>\n",
              "</div>"
            ],
            "text/plain": [
              "   Ping (ms)  Download (Mbit/s)  Upload (Mbit/s)        Date      Time\n",
              "0      6.337            1693.43           727.14  2021-03-25  16:00:34\n",
              "1      6.492            1986.93           632.61  2021-03-25  16:00:39\n",
              "2      5.450            2046.72           622.69  2021-03-25  16:00:44\n",
              "3      5.453            1771.34           736.38  2021-03-25  16:00:48\n",
              "4      5.118            1940.92           706.64  2021-03-25  16:00:53"
            ]
          },
          "execution_count": 157,
          "metadata": {
            "tags": []
          },
          "output_type": "execute_result"
        }
      ],
      "source": [
        "df['Date'] = df['Datetime'].apply(lambda x: pd.to_datetime(x).date())\n",
        "df['Time'] = df['Datetime'].apply(lambda x: pd.to_datetime(x).time())\n",
        "df.drop(columns = ['Datetime'], inplace = True)\n",
        "df.head()"
      ]
    },
    {
      "cell_type": "code",
      "execution_count": null,
      "metadata": {
        "id": "oIB4L5fUEQof"
      },
      "outputs": [],
      "source": [
        "df.to_csv('samples/speed_with_split_datetime.csv')"
      ]
    },
    {
      "cell_type": "code",
      "execution_count": null,
      "metadata": {},
      "outputs": [],
      "source": [
        "print(\"Выполнил: Коновалов С.В\")\n",
        "print(\"Что такое анонимная функция Python, как она работает\")\n",
        "print(\"Безымянная функция, которая содержит только одно выражение\")\n",
        "print(\"Что возвращает функция speedtest? Какой код используется для просмотра результатов функции speedtest?\")\n",
        "print(\"В оригинале результат speedtest-cli --simple разделяется пробелами на список строк и к этому списку добавляется Дата+время. \n",
        "\"В написаном мною коде в возвращаемом списке содержаться только значения ping, download, upload преобразованные в тип float и строка Дата+время.\"\n",
        "\" Для просмотра результата достаточно функции print.\")\n",
        "print(\"Каким образом выполняется переименование столбцов датафрейма?\")\n",
        "print(\"В оригинале используется функции rename с параметром inplace=True для прямого изменения, а не возвращения нового фрейма с изменеными именами. В моем коде столбцы сразу имеет правильное имя.\")\n",
        "print(\"Для чего в лабораторной работе импортируется библиотека NumPy?\")\n",
        "print(\"Библиотека numpy является математической библиотекой, позволяет выполсять работу с матрицами и другими типами, а так же на ней основаны другие библиотеки такие как pandes\")\n",
        "print(\"Как выглядит код удаления столбца Datetime?\")\n",
        "print(\"df.drop(columns = ['Datetime'], inplace = True)\")\n",
        "\n"
      ]
    }
  ],
  "metadata": {
    "colab": {
      "collapsed_sections": [],
      "include_colab_link": true,
      "name": "Lab 2.ipynb",
      "provenance": []
    },
    "kernelspec": {
      "display_name": "Python 3",
      "name": "python3"
    },
    "language_info": {
      "name": "python"
    }
  },
  "nbformat": 4,
  "nbformat_minor": 0
}
