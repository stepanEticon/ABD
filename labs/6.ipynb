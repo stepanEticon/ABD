{
  "cells": [
    {
      "cell_type": "markdown",
      "metadata": {
        "colab_type": "text",
        "id": "view-in-github"
      },
      "source": [
        "<a href=\"https://colab.research.google.com/github/Appendme/big_data_analysis/blob/master/Lab_6.ipynb\" target=\"_parent\"><img src=\"https://colab.research.google.com/assets/colab-badge.svg\" alt=\"Open In Colab\"/></a>"
      ]
    },
    {
      "cell_type": "code",
      "execution_count": null,
      "metadata": {
        "id": "qb9Eat6JcZu6"
      },
      "outputs": [],
      "source": [
        "import pandas as pd, matplotlib.pyplot as plt, numpy as np"
      ]
    },
    {
      "cell_type": "code",
      "execution_count": null,
      "metadata": {
        "colab": {
          "base_uri": "https://localhost:8080/"
        },
        "id": "rWifsLkcdosE",
        "outputId": "d5ce00e6-0f58-4a1b-9f23-557b29e32970"
      },
      "outputs": [
        {
          "data": {
            "text/plain": [
              "Unnamed: 0             int64\n",
              "Ping (ms)             object\n",
              "Download (Mbit/s)     object\n",
              "Upload (Mbit/s)      float64\n",
              "Date                  object\n",
              "Time                  object\n",
              "dtype: object"
            ]
          },
          "execution_count": 5,
          "metadata": {
            "tags": []
          },
          "output_type": "execute_result"
        }
      ],
      "source": [
        "df = pd.read_csv('samples/rpi_data_compact.csv')\n",
        "df.dropna(inplace = True)\n",
        "df.dtypes"
      ]
    },
    {
      "cell_type": "code",
      "execution_count": null,
      "metadata": {
        "colab": {
          "base_uri": "https://localhost:8080/"
        },
        "id": "AUXrsGq5ergJ",
        "outputId": "469f0eab-5854-4b03-ba25-48a3cc32cf8a"
      },
      "outputs": [
        {
          "data": {
            "text/plain": [
              "Unnamed: 0             int64\n",
              "Ping (ms)            float64\n",
              "Download (Mbit/s)    float64\n",
              "Upload (Mbit/s)      float64\n",
              "Date                  object\n",
              "Time                  object\n",
              "dtype: object"
            ]
          },
          "execution_count": 6,
          "metadata": {
            "tags": []
          },
          "output_type": "execute_result"
        }
      ],
      "source": [
        "df[['Ping (ms)', 'Download (Mbit/s)']] = df[['Ping (ms)', 'Download (Mbit/s)']].apply(pd.to_numeric)\n",
        "df.dtypes"
      ]
    },
    {
      "cell_type": "code",
      "execution_count": null,
      "metadata": {
        "colab": {
          "base_uri": "https://localhost:8080/",
          "height": 204
        },
        "id": "wrwGr-dWf6CQ",
        "outputId": "36ee6f69-782e-4afd-c516-873d2a0754f9"
      },
      "outputs": [
        {
          "data": {
            "text/html": [
              "<div>\n",
              "<style scoped>\n",
              "    .dataframe tbody tr th:only-of-type {\n",
              "        vertical-align: middle;\n",
              "    }\n",
              "\n",
              "    .dataframe tbody tr th {\n",
              "        vertical-align: top;\n",
              "    }\n",
              "\n",
              "    .dataframe thead th {\n",
              "        text-align: right;\n",
              "    }\n",
              "</style>\n",
              "<table border=\"1\" class=\"dataframe\">\n",
              "  <thead>\n",
              "    <tr style=\"text-align: right;\">\n",
              "      <th></th>\n",
              "      <th>Time</th>\n",
              "      <th>Date</th>\n",
              "      <th>Upload (Mbit/s)</th>\n",
              "      <th>Download (Mbit/s)</th>\n",
              "      <th>Ping (ms)</th>\n",
              "    </tr>\n",
              "  </thead>\n",
              "  <tbody>\n",
              "    <tr>\n",
              "      <th>0</th>\n",
              "      <td>13:36:25</td>\n",
              "      <td>2016-11-24</td>\n",
              "      <td>14.31</td>\n",
              "      <td>91.80</td>\n",
              "      <td>26.992</td>\n",
              "    </tr>\n",
              "    <tr>\n",
              "      <th>1</th>\n",
              "      <td>13:36:55</td>\n",
              "      <td>2016-11-24</td>\n",
              "      <td>14.12</td>\n",
              "      <td>88.19</td>\n",
              "      <td>24.532</td>\n",
              "    </tr>\n",
              "    <tr>\n",
              "      <th>2</th>\n",
              "      <td>13:37:25</td>\n",
              "      <td>2016-11-24</td>\n",
              "      <td>14.11</td>\n",
              "      <td>59.86</td>\n",
              "      <td>20.225</td>\n",
              "    </tr>\n",
              "    <tr>\n",
              "      <th>3</th>\n",
              "      <td>13:37:57</td>\n",
              "      <td>2016-11-24</td>\n",
              "      <td>14.22</td>\n",
              "      <td>91.81</td>\n",
              "      <td>19.332</td>\n",
              "    </tr>\n",
              "    <tr>\n",
              "      <th>4</th>\n",
              "      <td>13:38:27</td>\n",
              "      <td>2016-11-24</td>\n",
              "      <td>14.08</td>\n",
              "      <td>92.05</td>\n",
              "      <td>22.494</td>\n",
              "    </tr>\n",
              "  </tbody>\n",
              "</table>\n",
              "</div>"
            ],
            "text/plain": [
              "       Time        Date  Upload (Mbit/s)  Download (Mbit/s)  Ping (ms)\n",
              "0  13:36:25  2016-11-24            14.31              91.80     26.992\n",
              "1  13:36:55  2016-11-24            14.12              88.19     24.532\n",
              "2  13:37:25  2016-11-24            14.11              59.86     20.225\n",
              "3  13:37:57  2016-11-24            14.22              91.81     19.332\n",
              "4  13:38:27  2016-11-24            14.08              92.05     22.494"
            ]
          },
          "execution_count": 7,
          "metadata": {
            "tags": []
          },
          "output_type": "execute_result"
        }
      ],
      "source": [
        "df = df.reindex(columns = list(df.columns)[1::][::-1])\n",
        "df.head()"
      ]
    },
    {
      "cell_type": "code",
      "execution_count": null,
      "metadata": {
        "colab": {
          "base_uri": "https://localhost:8080/"
        },
        "id": "9Vq5sydJh2DS",
        "outputId": "a77951fc-3174-4aad-99d9-4500143da1c4"
      },
      "outputs": [
        {
          "name": "stdout",
          "output_type": "stream",
          "text": [
            "['Time', 'Date', 'Upload (Mbit/s)', 'Download (Mbit/s)', 'Ping (ms)']\n",
            "Index(['Ping (ms)', 'Download (Mbit/s)', 'Upload (Mbit/s)', 'Date'], dtype='object')\n"
          ]
        }
      ],
      "source": [
        "print(list(df.columns))\n",
        "print(df.columns[1::][::-1])"
      ]
    },
    {
      "cell_type": "code",
      "execution_count": null,
      "metadata": {
        "id": "aKBb3IrGiDFf"
      },
      "outputs": [],
      "source": [
        "df.to_csv('samples/rpi_data_processed.csv')"
      ]
    },
    {
      "cell_type": "code",
      "execution_count": 31,
      "metadata": {
        "colab": {
          "base_uri": "https://localhost:8080/"
        },
        "id": "cQsepgTki_XN",
        "outputId": "c93724ac-94e9-43ce-e943-6b7ad531cb1c"
      },
      "outputs": [
        {
          "name": "stdout",
          "output_type": "stream",
          "text": [
            "Avg ping time: 21.115451708766724 ± 5.161225495663228 ms\n",
            "Avg download speed: 90.44921248142644 ± 3.4656470318152284 Mbit/s\n",
            "Avg upload speed: 13.697607726597328 ± 1.0804708853031768 Mbit/s\n"
          ]
        }
      ],
      "source": [
        "means = df.mean(axis = 0)\n",
        "stands = df.std(axis = 0)\n",
        "\n",
        "m_upload, m_download, m_ping = means\n",
        "s_upload, s_download, s_ping = stands\n",
        "\n",
        "print(f'Avg ping time: {m_ping} ± {s_ping} ms')\n",
        "print(f'Avg download speed: {m_download} ± {s_download} Mbit/s')\n",
        "print(f'Avg upload speed: {m_upload} ± {s_upload} Mbit/s')"
      ]
    },
    {
      "cell_type": "code",
      "execution_count": 43,
      "metadata": {
        "colab": {
          "base_uri": "https://localhost:8080/"
        },
        "id": "lZQuzfdIR25X",
        "outputId": "7c4b9e49-c910-469a-c112-2cf1ab85286e"
      },
      "outputs": [
        {
          "name": "stdout",
          "output_type": "stream",
          "text": [
            "Min ping time: 16.167 ms. Max ping time: 76.528 ms\n",
            "Min download speed: 58.48 Mbit/s. Max download speed: 92.87 Mbit/s\n",
            "Min upload speed: 6.21 Mbit/s. Max upload speed: 14.55 Mbit/s\n"
          ]
        }
      ],
      "source": [
        "mins = df[df.columns[2::]].min()\n",
        "maxs = df[df.columns[2::]].max()\n",
        "\n",
        "min_upload, min_download, min_ping = mins\n",
        "max_upload, max_download, max_ping = maxs\n",
        "\n",
        "print(f'Min ping time: {min_ping} ms. Max ping time: {max_ping} ms')\n",
        "print(f'Min download speed: {min_download} Mbit/s. Max download speed: {max_download} Mbit/s')\n",
        "print(f'Min upload speed: {min_upload} Mbit/s. Max upload speed: {max_upload} Mbit/s')"
      ]
    },
    {
      "cell_type": "code",
      "execution_count": 44,
      "metadata": {
        "colab": {
          "base_uri": "https://localhost:8080/",
          "height": 297
        },
        "id": "CjD_DirPVXIk",
        "outputId": "af50dcbe-93a1-40c1-fc24-694fbdb5ff67"
      },
      "outputs": [
        {
          "data": {
            "text/html": [
              "<div>\n",
              "<style scoped>\n",
              "    .dataframe tbody tr th:only-of-type {\n",
              "        vertical-align: middle;\n",
              "    }\n",
              "\n",
              "    .dataframe tbody tr th {\n",
              "        vertical-align: top;\n",
              "    }\n",
              "\n",
              "    .dataframe thead th {\n",
              "        text-align: right;\n",
              "    }\n",
              "</style>\n",
              "<table border=\"1\" class=\"dataframe\">\n",
              "  <thead>\n",
              "    <tr style=\"text-align: right;\">\n",
              "      <th></th>\n",
              "      <th>Upload (Mbit/s)</th>\n",
              "      <th>Download (Mbit/s)</th>\n",
              "      <th>Ping (ms)</th>\n",
              "    </tr>\n",
              "  </thead>\n",
              "  <tbody>\n",
              "    <tr>\n",
              "      <th>count</th>\n",
              "      <td>673.000000</td>\n",
              "      <td>673.000000</td>\n",
              "      <td>673.000000</td>\n",
              "    </tr>\n",
              "    <tr>\n",
              "      <th>mean</th>\n",
              "      <td>13.697608</td>\n",
              "      <td>90.449212</td>\n",
              "      <td>21.115452</td>\n",
              "    </tr>\n",
              "    <tr>\n",
              "      <th>std</th>\n",
              "      <td>1.080471</td>\n",
              "      <td>3.465647</td>\n",
              "      <td>5.161225</td>\n",
              "    </tr>\n",
              "    <tr>\n",
              "      <th>min</th>\n",
              "      <td>6.210000</td>\n",
              "      <td>58.480000</td>\n",
              "      <td>16.167000</td>\n",
              "    </tr>\n",
              "    <tr>\n",
              "      <th>25%</th>\n",
              "      <td>13.640000</td>\n",
              "      <td>90.220000</td>\n",
              "      <td>19.115000</td>\n",
              "    </tr>\n",
              "    <tr>\n",
              "      <th>50%</th>\n",
              "      <td>13.980000</td>\n",
              "      <td>91.560000</td>\n",
              "      <td>20.322000</td>\n",
              "    </tr>\n",
              "    <tr>\n",
              "      <th>75%</th>\n",
              "      <td>14.180000</td>\n",
              "      <td>92.070000</td>\n",
              "      <td>21.843000</td>\n",
              "    </tr>\n",
              "    <tr>\n",
              "      <th>max</th>\n",
              "      <td>14.550000</td>\n",
              "      <td>92.870000</td>\n",
              "      <td>76.528000</td>\n",
              "    </tr>\n",
              "  </tbody>\n",
              "</table>\n",
              "</div>"
            ],
            "text/plain": [
              "       Upload (Mbit/s)  Download (Mbit/s)   Ping (ms)\n",
              "count       673.000000         673.000000  673.000000\n",
              "mean         13.697608          90.449212   21.115452\n",
              "std           1.080471           3.465647    5.161225\n",
              "min           6.210000          58.480000   16.167000\n",
              "25%          13.640000          90.220000   19.115000\n",
              "50%          13.980000          91.560000   20.322000\n",
              "75%          14.180000          92.070000   21.843000\n",
              "max          14.550000          92.870000   76.528000"
            ]
          },
          "execution_count": 44,
          "metadata": {
            "tags": []
          },
          "output_type": "execute_result"
        }
      ],
      "source": [
        "df.describe()"
      ]
    },
    {
      "cell_type": "code",
      "execution_count": 53,
      "metadata": {
        "colab": {
          "base_uri": "https://localhost:8080/"
        },
        "id": "yD9wYTj5Wb6Q",
        "outputId": "3fee2bd9-be86-4540-9271-49dd9c96936c"
      },
      "outputs": [
        {
          "name": "stdout",
          "output_type": "stream",
          "text": [
            "Min ping arg: 217 ms. Max ping arg: 461 ms\n",
            "Min download arg: 161 Mbit/s. Max download arg: 407 Mbit/s\n",
            "Min upload arg: 464 Mbit/s. Max upload arg: 524 Mbit/s\n"
          ]
        }
      ],
      "source": [
        "argmin_ping = df['Ping (ms)'].argmin()\n",
        "argmax_ping = df['Ping (ms)'].argmax()\n",
        "\n",
        "argmin_down = df['Download (Mbit/s)'].argmin()\n",
        "argmax_down = df['Download (Mbit/s)'].argmax()\n",
        "\n",
        "argmin_upload = df['Upload (Mbit/s)'].argmin()\n",
        "argmax_upload = df['Upload (Mbit/s)'].argmax()\n",
        "\n",
        "print(f'Min ping arg: {argmin_ping} ms. Max ping arg: {argmax_ping} ms')\n",
        "print(f'Min download arg: {argmin_down} Mbit/s. Max download arg: {argmax_down} Mbit/s')\n",
        "print(f'Min upload arg: {argmin_upload} Mbit/s. Max upload arg: {argmax_upload} Mbit/s')"
      ]
    },
    {
      "cell_type": "code",
      "execution_count": 70,
      "metadata": {
        "colab": {
          "base_uri": "https://localhost:8080/"
        },
        "id": "E0VTxjIQZmKL",
        "outputId": "0fd21a9a-8b03-4c05-f274-568511316f8e"
      },
      "outputs": [
        {
          "name": "stdout",
          "output_type": "stream",
          "text": [
            "Ping measure reached minimum on 2016-11-24 at 15:26:20\n",
            "Download measure reached minimum on 2016-11-24 at 14:57:55\n",
            "Upload measure reached minimum on 2016-11-24 at 17:31:47\n",
            "Ping measure reached maximum on 2016-11-24 at 17:30:06\n",
            "Download measure reached maximum on 2016-11-24 at 17:02:49\n",
            "Upload measure reached maximum on 2016-11-24 at 18:02:15\n"
          ]
        }
      ],
      "source": [
        "print(f'Ping measure reached minimum on {df.iloc[argmin_ping][1]} at {df.iloc[argmin_ping][0]}')\n",
        "print(f'Download measure reached minimum on {df.iloc[argmin_down][1]} at {df.iloc[argmin_down][0]}')\n",
        "print(f'Upload measure reached minimum on {df.iloc[argmin_upload][1]} at {df.iloc[argmin_upload][0]}')\n",
        "\n",
        "print(f'Ping measure reached maximum on {df.iloc[argmax_ping][1]} at {df.iloc[argmax_ping][0]}')\n",
        "print(f'Download measure reached maximum on {df.iloc[argmax_down][1]} at {df.iloc[argmax_down][0]}')\n",
        "print(f'Upload measure reached maximum on {df.iloc[argmax_upload][1]} at {df.iloc[argmax_upload][0]}')"
      ]
    },
    {
      "cell_type": "code",
      "execution_count": 80,
      "metadata": {
        "colab": {
          "base_uri": "https://localhost:8080/",
          "height": 142
        },
        "id": "53HiSCQdXULz",
        "outputId": "c19fc6eb-82f8-43c6-ce1e-31d69f325aec"
      },
      "outputs": [
        {
          "data": {
            "text/html": [
              "<div>\n",
              "<style scoped>\n",
              "    .dataframe tbody tr th:only-of-type {\n",
              "        vertical-align: middle;\n",
              "    }\n",
              "\n",
              "    .dataframe tbody tr th {\n",
              "        vertical-align: top;\n",
              "    }\n",
              "\n",
              "    .dataframe thead th {\n",
              "        text-align: right;\n",
              "    }\n",
              "</style>\n",
              "<table border=\"1\" class=\"dataframe\">\n",
              "  <thead>\n",
              "    <tr style=\"text-align: right;\">\n",
              "      <th></th>\n",
              "      <th>Upload (Mbit/s)</th>\n",
              "      <th>Download (Mbit/s)</th>\n",
              "      <th>Ping (ms)</th>\n",
              "    </tr>\n",
              "  </thead>\n",
              "  <tbody>\n",
              "    <tr>\n",
              "      <th>Upload (Mbit/s)</th>\n",
              "      <td>1.000000</td>\n",
              "      <td>0.083690</td>\n",
              "      <td>-0.463099</td>\n",
              "    </tr>\n",
              "    <tr>\n",
              "      <th>Download (Mbit/s)</th>\n",
              "      <td>0.083690</td>\n",
              "      <td>1.000000</td>\n",
              "      <td>-0.045626</td>\n",
              "    </tr>\n",
              "    <tr>\n",
              "      <th>Ping (ms)</th>\n",
              "      <td>-0.463099</td>\n",
              "      <td>-0.045626</td>\n",
              "      <td>1.000000</td>\n",
              "    </tr>\n",
              "  </tbody>\n",
              "</table>\n",
              "</div>"
            ],
            "text/plain": [
              "                   Upload (Mbit/s)  Download (Mbit/s)  Ping (ms)\n",
              "Upload (Mbit/s)           1.000000           0.083690  -0.463099\n",
              "Download (Mbit/s)         0.083690           1.000000  -0.045626\n",
              "Ping (ms)                -0.463099          -0.045626   1.000000"
            ]
          },
          "execution_count": 80,
          "metadata": {
            "tags": []
          },
          "output_type": "execute_result"
        }
      ],
      "source": [
        "corr = df.corr()\n",
        "corr"
      ]
    },
    {
      "cell_type": "code",
      "execution_count": 81,
      "metadata": {
        "colab": {
          "base_uri": "https://localhost:8080/"
        },
        "id": "r4ecRxJVY6aY",
        "outputId": "f62cd1da-5bdb-459f-f82c-955060e99562"
      },
      "outputs": [
        {
          "name": "stdout",
          "output_type": "stream",
          "text": [
            "Correlation coefficient between ping and download: 0.08368996933725129\n",
            "Correlation coefficient between ping and upload: -0.46309871383001827\n",
            "Correlation coefficient between upload and download: -0.04562611025837995\n"
          ]
        }
      ],
      "source": [
        "corr = corr.values\n",
        "print(f'Correlation coefficient between ping and download: {corr[0, 1]}')\n",
        "print(f'Correlation coefficient between ping and upload: {corr[0, 2]}')\n",
        "print(f'Correlation coefficient between upload and download: {corr[2, 1]}')"
      ]
    },
    {
      "cell_type": "code",
      "execution_count": 82,
      "metadata": {
        "id": "rF3O9rWNdWW4"
      },
      "outputs": [],
      "source": [
        "import matplotlib.pyplot as plt\n",
        "%matplotlib inline "
      ]
    },
    {
      "cell_type": "code",
      "execution_count": 104,
      "metadata": {
        "colab": {
          "base_uri": "https://localhost:8080/",
          "height": 383
        },
        "id": "xPwMZJRqdX3c",
        "outputId": "41ec1fa5-6082-435d-810d-3fbbe286f683"
      },
      "outputs": [
        {
          "data": {
            "image/png": "[encoded data removed]",
            "text/plain": [
              "<Figure size 720x360 with 1 Axes>"
            ]
          },
          "metadata": {
            "tags": []
          },
          "output_type": "display_data"
        }
      ],
      "source": [
        "with plt.style.context('fivethirtyeight'):\n",
        "    fig, ax = plt.subplots(figsize=(10, 5))\n",
        "\n",
        "    t = pd.to_datetime(df['Time'])\n",
        "    ax.plot(t, df['Ping (ms)'], 'o', label='Ping (ms)')\n",
        "    ax.plot(t, df['Download (Mbit/s)'], label='Download (Mbit/s)')\n",
        "    ax.plot(t, df['Upload (Mbit/s)'], label='Upload (Mbit/s)')\n",
        "\n",
        "    ax.set_xlabel('Date')\n",
        "    ax.set_ylabel('Y')\n",
        "    ax.set_title(\"Speed stat\")\n",
        "\n",
        "    ax.legend()\n",
        "    ax.tick_params(labelsize=14)\n",
        "    plt.show()"
      ]
    },
    {
      "cell_type": "code",
      "execution_count": 102,
      "metadata": {
        "colab": {
          "base_uri": "https://localhost:8080/",
          "height": 651
        },
        "id": "H39XDF_CeXKb",
        "outputId": "3781f954-ce45-402a-df04-fa8dba981b3e"
      },
      "outputs": [
        {
          "data": {
            "image/png": "[encoded data removed]",
            "text/plain": [
              "<Figure size 720x720 with 4 Axes>"
            ]
          },
          "metadata": {
            "tags": []
          },
          "output_type": "display_data"
        }
      ],
      "source": [
        "# Code Cell 37\n",
        "with plt.style.context('fivethirtyeight'):\n",
        "    nbins = 100\n",
        "    # Initialize figure\n",
        "    fig, ax = plt.subplots(2, 2, figsize=(10, 10))\n",
        "\n",
        "    ax[0][0].hist(df['Ping (ms)'], nbins)\n",
        "    ax[0][0].set_xlabel('Ping (ms)', fontsize=16)\n",
        "    ax[0][0].tick_params(labelsize=14)\n",
        "    ax[0][1].hist(df['Upload (Mbit/s)'], nbins)\n",
        "    ax[0][1].set_xlabel('Upload (Mbit/s)', fontsize=16)\n",
        "    ax[0][1].tick_params(labelsize=14)\n",
        "    ax[1][0].hist(df['Download (Mbit/s)'], nbins)\n",
        "    ax[1][0].set_xlabel('Download (Mbit/s)', fontsize=16)\n",
        "    ax[1][0].tick_params(labelsize=14)\n",
        "    ax[1][1].set_visible(False)"
      ]
    },
    {
      "cell_type": "code",
      "execution_count": null,
      "metadata": {},
      "outputs": [],
      "source": [
        "print(\"Выполнил: Коновалов С.В.\")"
      ]
    }
  ],
  "metadata": {
    "colab": {
      "authorship_tag": "ABX9TyPJ1frO4uHY1Fo4PhHtBU7/",
      "collapsed_sections": [],
      "include_colab_link": true,
      "name": "Lab 6.ipynb",
      "provenance": []
    },
    "kernelspec": {
      "display_name": "Python 3",
      "name": "python3"
    },
    "language_info": {
      "name": "python"
    }
  },
  "nbformat": 4,
  "nbformat_minor": 0
}
